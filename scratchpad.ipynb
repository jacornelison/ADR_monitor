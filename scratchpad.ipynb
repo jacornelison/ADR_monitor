{
 "cells": [
  {
   "cell_type": "code",
   "execution_count": 15,
   "id": "25f72a44-0901-499e-986e-ea29be3c78b8",
   "metadata": {},
   "outputs": [],
   "source": [
    "# Examine how pandas handles HDF5 saving\n",
    "import pandas as pd\n",
    "\n",
    "data = pd.DataFrame({\"A\":[],\"B\":[]})\n",
    "\n",
    "filename = 'test'\n",
    "data.to_hdf(filename,key='data',mode='w',format='table')"
   ]
  },
  {
   "cell_type": "code",
   "execution_count": 24,
   "id": "22cc529a-d2aa-4e5c-a469-f09a2632c6bc",
   "metadata": {},
   "outputs": [],
   "source": [
    "data = pd.DataFrame({\"A\":[1,2],\"B\":[3,4]})\n",
    "\n",
    "filename = 'test'\n",
    "data.to_hdf(filename,key='data',mode='a',format='table',append=True)"
   ]
  },
  {
   "cell_type": "code",
   "execution_count": 2,
   "id": "43da3720-18c6-409e-a596-c03c8cbf0d84",
   "metadata": {},
   "outputs": [
    {
     "name": "stdout",
     "output_type": "stream",
     "text": [
      "        Time  Test_Channel 1  Test_Channel 2\n",
      "0   1.586252       -0.661870       -0.450481\n",
      "1   0.806071       -0.459447        0.860522\n",
      "2  -1.175917       -0.616835       -0.337410\n",
      "3   0.764415        0.650220        1.155261\n",
      "4  -1.167704       -0.707753        1.064904\n",
      "..       ...             ...             ...\n",
      "95  1.249002       -1.350894       -1.035145\n",
      "96  0.323894        1.117102        0.906833\n",
      "97  0.932582       -0.315692       -0.504919\n",
      "98  1.164382        2.071734        0.473261\n",
      "99  0.795032        0.489631        0.282392\n",
      "\n",
      "[100 rows x 3 columns]\n"
     ]
    }
   ],
   "source": []
  },
  {
   "cell_type": "code",
   "execution_count": 26,
   "id": "1ffe5ddf-7595-4655-93ec-002252f7e9ff",
   "metadata": {},
   "outputs": [],
   "source": [
    "import ADRConfig as cg"
   ]
  },
  {
   "cell_type": "code",
   "execution_count": 1,
   "id": "0f15e911-3a04-48fe-a31a-5161d3cfb4f8",
   "metadata": {},
   "outputs": [],
   "source": [
    "import arcfile_handler as ah\n",
    "import DAQ_faker\n",
    "filename = 'test'\n",
    "\n",
    "DAQ_faker.init_fake_data(filename)"
   ]
  },
  {
   "cell_type": "code",
   "execution_count": 3,
   "id": "558b0c21-5955-4604-abef-db1ef5ac76f3",
   "metadata": {},
   "outputs": [
    {
     "name": "stdout",
     "output_type": "stream",
     "text": [
      "            Time  Test_Channel 1  Test_Channel 2\n",
      "0   1.745368e+09       -0.566224        0.312381\n",
      "1   1.745368e+09        0.724081        0.178403\n",
      "2   1.745368e+09       -0.690122       -0.206945\n",
      "3   1.745368e+09       -0.081820       -0.263138\n",
      "4   1.745368e+09       -0.051544       -0.387367\n",
      "..           ...             ...             ...\n",
      "0            NaN        1.249166        0.566590\n",
      "0            NaN       -0.697885        0.275727\n",
      "0            NaN       -0.455242       -0.066345\n",
      "0            NaN       -2.423855       -0.381880\n",
      "0            NaN       -0.427278       -0.137734\n",
      "\n",
      "[753 rows x 3 columns]\n"
     ]
    }
   ],
   "source": [
    "import pandas as pd\n",
    "data_new = pd.read_hdf('test')\n",
    "print(data_new)"
   ]
  }
 ],
 "metadata": {
  "kernelspec": {
   "display_name": "Python 3 (ipykernel)",
   "language": "python",
   "name": "python3"
  },
  "language_info": {
   "codemirror_mode": {
    "name": "ipython",
    "version": 3
   },
   "file_extension": ".py",
   "mimetype": "text/x-python",
   "name": "python",
   "nbconvert_exporter": "python",
   "pygments_lexer": "ipython3",
   "version": "3.11.5"
  }
 },
 "nbformat": 4,
 "nbformat_minor": 5
}
